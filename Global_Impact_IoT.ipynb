{
  "nbformat": 4,
  "nbformat_minor": 0,
  "metadata": {
    "colab": {
      "name": "Global_Impact_IoT.ipynb",
      "provenance": [],
      "collapsed_sections": []
    },
    "kernelspec": {
      "name": "python3",
      "display_name": "Python 3"
    },
    "language_info": {
      "name": "python"
    }
  },
  "cells": [
    {
      "cell_type": "markdown",
      "metadata": {
        "id": "hfanUAJeFWuK"
      },
      "source": [
        "##JUSTIFICATIVA DAS ESCOLHAS\n",
        "\n",
        "**Pré-processamento de dados:**\n",
        "\n",
        "Referente ao pré-processamento de dados, usamos o MinMaxScaler do Sklearn, que é uma técnica de pré-processamento que coloca os dados na mesma escala. Isso faz com que os modelos trabalhem com os dados de forma mais eficiente, melhorando os resultados.\n",
        "\n",
        "**Dos atributos categórico e não categóricos:**\n",
        "\n",
        "Sobre os atributos, os categóricos são os tomates resistentes a praga, onde apresentam resultados significativos, enquanto os não categóricos foram afetados pela praga, não podendo ser consumível.\n",
        "\n",
        "**Escolha do algoritmo escolhido:**\n",
        "\n",
        "Escolhemos o KNN por além de ser simples de se aplicar, e servir para vários segmentos de negócios como por exemplo: finanças e saúde, faz total sentido com o tema atual e de como queremos resolver o problema dá classificação de tomates que são resistentes ao fungo ou não.\n",
        "\n",
        "**Métricas adotadas para avaliar a performance do modelo criado:**\n",
        "\n",
        "O modelo criado se trata de um não paramétrico, que classifica com base na similaridade entre elementos, sendo assim, muito versátil para datasets pequenos e com relação não lineares. Esse modelo se encaixa perfeitamente em datasets pequenos. As métricas adotadas são de classificação, teste e precisão dos resultados."
      ]
    },
    {
      "cell_type": "code",
      "metadata": {
        "id": "clMxw96iNjQI"
      },
      "source": [
        "import numpy as np\n",
        "import pandas as pd\n",
        "import matplotlib.pyplot as plt\n",
        "import seaborn as sns"
      ],
      "execution_count": 27,
      "outputs": []
    },
    {
      "cell_type": "code",
      "metadata": {
        "id": "4vHIHo2Z1YkN"
      },
      "source": [
        "dataset = pd.read_csv('/home/dataset_tomate.csv')"
      ],
      "execution_count": 28,
      "outputs": []
    },
    {
      "cell_type": "code",
      "metadata": {
        "colab": {
          "base_uri": "https://localhost:8080/",
          "height": 224
        },
        "id": "h_vq6QNn3pqz",
        "outputId": "1f82571c-2495-424c-d307-c7ea399f3409"
      },
      "source": [
        "dataset.head()"
      ],
      "execution_count": 29,
      "outputs": [
        {
          "output_type": "execute_result",
          "data": {
            "text/html": [
              "<div>\n",
              "<style scoped>\n",
              "    .dataframe tbody tr th:only-of-type {\n",
              "        vertical-align: middle;\n",
              "    }\n",
              "\n",
              "    .dataframe tbody tr th {\n",
              "        vertical-align: top;\n",
              "    }\n",
              "\n",
              "    .dataframe thead th {\n",
              "        text-align: right;\n",
              "    }\n",
              "</style>\n",
              "<table border=\"1\" class=\"dataframe\">\n",
              "  <thead>\n",
              "    <tr style=\"text-align: right;\">\n",
              "      <th></th>\n",
              "      <th>id</th>\n",
              "      <th>trat</th>\n",
              "      <th>NDVI_d28</th>\n",
              "      <th>SAVI_d28</th>\n",
              "      <th>GNDVI_d28</th>\n",
              "      <th>MCARI1_d28</th>\n",
              "      <th>SR_d28</th>\n",
              "      <th>NDVI_d01</th>\n",
              "      <th>SAVI_d01</th>\n",
              "      <th>GNDVI_d01</th>\n",
              "      <th>MCARI1_d01</th>\n",
              "      <th>SR_d01</th>\n",
              "      <th>NDVI_d04</th>\n",
              "      <th>SAVI_d04</th>\n",
              "      <th>GNDVI_d04</th>\n",
              "      <th>MCARI1_d04</th>\n",
              "      <th>SR_d04</th>\n",
              "      <th>NDVI_d08</th>\n",
              "      <th>SAVI_d08</th>\n",
              "      <th>GNDVI_d08</th>\n",
              "      <th>MCARI1_d08</th>\n",
              "      <th>SR_d08</th>\n",
              "      <th>Classe</th>\n",
              "    </tr>\n",
              "  </thead>\n",
              "  <tbody>\n",
              "    <tr>\n",
              "      <th>0</th>\n",
              "      <td>1</td>\n",
              "      <td>102</td>\n",
              "      <td>0.798284</td>\n",
              "      <td>1.197380</td>\n",
              "      <td>0.692652</td>\n",
              "      <td>16710.29721</td>\n",
              "      <td>9.728142</td>\n",
              "      <td>0.729767</td>\n",
              "      <td>1.094620</td>\n",
              "      <td>0.698726</td>\n",
              "      <td>21499.94698</td>\n",
              "      <td>6.907142</td>\n",
              "      <td>0.713179</td>\n",
              "      <td>1.069718</td>\n",
              "      <td>0.662425</td>\n",
              "      <td>13090.11459</td>\n",
              "      <td>6.216968</td>\n",
              "      <td>0.684125</td>\n",
              "      <td>1.026146</td>\n",
              "      <td>0.636865</td>\n",
              "      <td>13352.81776</td>\n",
              "      <td>5.421333</td>\n",
              "      <td>1</td>\n",
              "    </tr>\n",
              "    <tr>\n",
              "      <th>1</th>\n",
              "      <td>2</td>\n",
              "      <td>11</td>\n",
              "      <td>0.806955</td>\n",
              "      <td>1.210392</td>\n",
              "      <td>0.705323</td>\n",
              "      <td>19513.85630</td>\n",
              "      <td>10.557411</td>\n",
              "      <td>0.774359</td>\n",
              "      <td>1.161514</td>\n",
              "      <td>0.717367</td>\n",
              "      <td>30041.91766</td>\n",
              "      <td>8.531835</td>\n",
              "      <td>0.777758</td>\n",
              "      <td>1.166604</td>\n",
              "      <td>0.680269</td>\n",
              "      <td>22731.09954</td>\n",
              "      <td>8.380453</td>\n",
              "      <td>0.725521</td>\n",
              "      <td>1.088240</td>\n",
              "      <td>0.669113</td>\n",
              "      <td>16190.82038</td>\n",
              "      <td>6.491860</td>\n",
              "      <td>0</td>\n",
              "    </tr>\n",
              "    <tr>\n",
              "      <th>2</th>\n",
              "      <td>3</td>\n",
              "      <td>103</td>\n",
              "      <td>0.825104</td>\n",
              "      <td>1.237610</td>\n",
              "      <td>0.708468</td>\n",
              "      <td>18074.06986</td>\n",
              "      <td>11.141408</td>\n",
              "      <td>0.786941</td>\n",
              "      <td>1.180385</td>\n",
              "      <td>0.730471</td>\n",
              "      <td>29312.17626</td>\n",
              "      <td>8.982521</td>\n",
              "      <td>0.730708</td>\n",
              "      <td>1.096008</td>\n",
              "      <td>0.680238</td>\n",
              "      <td>12330.21702</td>\n",
              "      <td>6.670915</td>\n",
              "      <td>0.728171</td>\n",
              "      <td>1.092214</td>\n",
              "      <td>0.655206</td>\n",
              "      <td>15313.16198</td>\n",
              "      <td>6.551268</td>\n",
              "      <td>1</td>\n",
              "    </tr>\n",
              "    <tr>\n",
              "      <th>3</th>\n",
              "      <td>4</td>\n",
              "      <td>112</td>\n",
              "      <td>0.788884</td>\n",
              "      <td>1.183279</td>\n",
              "      <td>0.664787</td>\n",
              "      <td>16226.23017</td>\n",
              "      <td>8.990752</td>\n",
              "      <td>0.743874</td>\n",
              "      <td>1.115782</td>\n",
              "      <td>0.690141</td>\n",
              "      <td>22610.47885</td>\n",
              "      <td>7.109600</td>\n",
              "      <td>0.707999</td>\n",
              "      <td>1.061948</td>\n",
              "      <td>0.644786</td>\n",
              "      <td>12085.07787</td>\n",
              "      <td>6.017714</td>\n",
              "      <td>0.728161</td>\n",
              "      <td>1.092201</td>\n",
              "      <td>0.640739</td>\n",
              "      <td>16562.17418</td>\n",
              "      <td>6.608121</td>\n",
              "      <td>1</td>\n",
              "    </tr>\n",
              "    <tr>\n",
              "      <th>4</th>\n",
              "      <td>5</td>\n",
              "      <td>114</td>\n",
              "      <td>0.764986</td>\n",
              "      <td>1.147432</td>\n",
              "      <td>0.673490</td>\n",
              "      <td>14920.80711</td>\n",
              "      <td>8.269806</td>\n",
              "      <td>0.715948</td>\n",
              "      <td>1.073894</td>\n",
              "      <td>0.695619</td>\n",
              "      <td>22002.08151</td>\n",
              "      <td>6.447621</td>\n",
              "      <td>0.688155</td>\n",
              "      <td>1.032176</td>\n",
              "      <td>0.660206</td>\n",
              "      <td>10053.17885</td>\n",
              "      <td>5.571702</td>\n",
              "      <td>0.694320</td>\n",
              "      <td>1.041437</td>\n",
              "      <td>0.642373</td>\n",
              "      <td>13760.95583</td>\n",
              "      <td>5.665567</td>\n",
              "      <td>1</td>\n",
              "    </tr>\n",
              "  </tbody>\n",
              "</table>\n",
              "</div>"
            ],
            "text/plain": [
              "   id  trat  NDVI_d28  SAVI_d28  ...  GNDVI_d08   MCARI1_d08    SR_d08  Classe\n",
              "0   1   102  0.798284  1.197380  ...   0.636865  13352.81776  5.421333       1\n",
              "1   2    11  0.806955  1.210392  ...   0.669113  16190.82038  6.491860       0\n",
              "2   3   103  0.825104  1.237610  ...   0.655206  15313.16198  6.551268       1\n",
              "3   4   112  0.788884  1.183279  ...   0.640739  16562.17418  6.608121       1\n",
              "4   5   114  0.764986  1.147432  ...   0.642373  13760.95583  5.665567       1\n",
              "\n",
              "[5 rows x 23 columns]"
            ]
          },
          "metadata": {},
          "execution_count": 29
        }
      ]
    },
    {
      "cell_type": "code",
      "metadata": {
        "colab": {
          "base_uri": "https://localhost:8080/"
        },
        "id": "zK3JQDFd508W",
        "outputId": "530f6a1b-429c-4dc5-ef91-74545a0340e8"
      },
      "source": [
        "dataset.info()"
      ],
      "execution_count": 30,
      "outputs": [
        {
          "output_type": "stream",
          "name": "stdout",
          "text": [
            "<class 'pandas.core.frame.DataFrame'>\n",
            "RangeIndex: 132 entries, 0 to 131\n",
            "Data columns (total 23 columns):\n",
            " #   Column      Non-Null Count  Dtype  \n",
            "---  ------      --------------  -----  \n",
            " 0   id          132 non-null    int64  \n",
            " 1   trat        132 non-null    int64  \n",
            " 2   NDVI_d28    132 non-null    float64\n",
            " 3   SAVI_d28    132 non-null    float64\n",
            " 4   GNDVI_d28   132 non-null    float64\n",
            " 5   MCARI1_d28  132 non-null    float64\n",
            " 6   SR_d28      132 non-null    float64\n",
            " 7   NDVI_d01    132 non-null    float64\n",
            " 8   SAVI_d01    132 non-null    float64\n",
            " 9   GNDVI_d01   132 non-null    float64\n",
            " 10  MCARI1_d01  132 non-null    float64\n",
            " 11  SR_d01      132 non-null    float64\n",
            " 12  NDVI_d04    132 non-null    float64\n",
            " 13  SAVI_d04    132 non-null    float64\n",
            " 14  GNDVI_d04   132 non-null    float64\n",
            " 15  MCARI1_d04  132 non-null    float64\n",
            " 16  SR_d04      132 non-null    float64\n",
            " 17  NDVI_d08    132 non-null    float64\n",
            " 18  SAVI_d08    132 non-null    float64\n",
            " 19  GNDVI_d08   132 non-null    float64\n",
            " 20  MCARI1_d08  132 non-null    float64\n",
            " 21  SR_d08      132 non-null    float64\n",
            " 22  Classe      132 non-null    int64  \n",
            "dtypes: float64(20), int64(3)\n",
            "memory usage: 23.8 KB\n"
          ]
        }
      ]
    },
    {
      "cell_type": "markdown",
      "metadata": {
        "id": "OQi1nqVoH8Bf"
      },
      "source": [
        "Normalizando os dados"
      ]
    },
    {
      "cell_type": "code",
      "metadata": {
        "id": "Mx9K5lrlOVgO"
      },
      "source": [
        "from sklearn.preprocessing import MinMaxScaler"
      ],
      "execution_count": 31,
      "outputs": []
    },
    {
      "cell_type": "code",
      "metadata": {
        "id": "FTPuaaABJof7"
      },
      "source": [
        "mms=MinMaxScaler()"
      ],
      "execution_count": 32,
      "outputs": []
    },
    {
      "cell_type": "code",
      "metadata": {
        "colab": {
          "base_uri": "https://localhost:8080/",
          "height": 224
        },
        "id": "xuQEc7vxJqpw",
        "outputId": "38df3335-42a0-45ff-878c-1fee57d06a93"
      },
      "source": [
        "dataset.head()"
      ],
      "execution_count": 33,
      "outputs": [
        {
          "output_type": "execute_result",
          "data": {
            "text/html": [
              "<div>\n",
              "<style scoped>\n",
              "    .dataframe tbody tr th:only-of-type {\n",
              "        vertical-align: middle;\n",
              "    }\n",
              "\n",
              "    .dataframe tbody tr th {\n",
              "        vertical-align: top;\n",
              "    }\n",
              "\n",
              "    .dataframe thead th {\n",
              "        text-align: right;\n",
              "    }\n",
              "</style>\n",
              "<table border=\"1\" class=\"dataframe\">\n",
              "  <thead>\n",
              "    <tr style=\"text-align: right;\">\n",
              "      <th></th>\n",
              "      <th>id</th>\n",
              "      <th>trat</th>\n",
              "      <th>NDVI_d28</th>\n",
              "      <th>SAVI_d28</th>\n",
              "      <th>GNDVI_d28</th>\n",
              "      <th>MCARI1_d28</th>\n",
              "      <th>SR_d28</th>\n",
              "      <th>NDVI_d01</th>\n",
              "      <th>SAVI_d01</th>\n",
              "      <th>GNDVI_d01</th>\n",
              "      <th>MCARI1_d01</th>\n",
              "      <th>SR_d01</th>\n",
              "      <th>NDVI_d04</th>\n",
              "      <th>SAVI_d04</th>\n",
              "      <th>GNDVI_d04</th>\n",
              "      <th>MCARI1_d04</th>\n",
              "      <th>SR_d04</th>\n",
              "      <th>NDVI_d08</th>\n",
              "      <th>SAVI_d08</th>\n",
              "      <th>GNDVI_d08</th>\n",
              "      <th>MCARI1_d08</th>\n",
              "      <th>SR_d08</th>\n",
              "      <th>Classe</th>\n",
              "    </tr>\n",
              "  </thead>\n",
              "  <tbody>\n",
              "    <tr>\n",
              "      <th>0</th>\n",
              "      <td>1</td>\n",
              "      <td>102</td>\n",
              "      <td>0.798284</td>\n",
              "      <td>1.197380</td>\n",
              "      <td>0.692652</td>\n",
              "      <td>16710.29721</td>\n",
              "      <td>9.728142</td>\n",
              "      <td>0.729767</td>\n",
              "      <td>1.094620</td>\n",
              "      <td>0.698726</td>\n",
              "      <td>21499.94698</td>\n",
              "      <td>6.907142</td>\n",
              "      <td>0.713179</td>\n",
              "      <td>1.069718</td>\n",
              "      <td>0.662425</td>\n",
              "      <td>13090.11459</td>\n",
              "      <td>6.216968</td>\n",
              "      <td>0.684125</td>\n",
              "      <td>1.026146</td>\n",
              "      <td>0.636865</td>\n",
              "      <td>13352.81776</td>\n",
              "      <td>5.421333</td>\n",
              "      <td>1</td>\n",
              "    </tr>\n",
              "    <tr>\n",
              "      <th>1</th>\n",
              "      <td>2</td>\n",
              "      <td>11</td>\n",
              "      <td>0.806955</td>\n",
              "      <td>1.210392</td>\n",
              "      <td>0.705323</td>\n",
              "      <td>19513.85630</td>\n",
              "      <td>10.557411</td>\n",
              "      <td>0.774359</td>\n",
              "      <td>1.161514</td>\n",
              "      <td>0.717367</td>\n",
              "      <td>30041.91766</td>\n",
              "      <td>8.531835</td>\n",
              "      <td>0.777758</td>\n",
              "      <td>1.166604</td>\n",
              "      <td>0.680269</td>\n",
              "      <td>22731.09954</td>\n",
              "      <td>8.380453</td>\n",
              "      <td>0.725521</td>\n",
              "      <td>1.088240</td>\n",
              "      <td>0.669113</td>\n",
              "      <td>16190.82038</td>\n",
              "      <td>6.491860</td>\n",
              "      <td>0</td>\n",
              "    </tr>\n",
              "    <tr>\n",
              "      <th>2</th>\n",
              "      <td>3</td>\n",
              "      <td>103</td>\n",
              "      <td>0.825104</td>\n",
              "      <td>1.237610</td>\n",
              "      <td>0.708468</td>\n",
              "      <td>18074.06986</td>\n",
              "      <td>11.141408</td>\n",
              "      <td>0.786941</td>\n",
              "      <td>1.180385</td>\n",
              "      <td>0.730471</td>\n",
              "      <td>29312.17626</td>\n",
              "      <td>8.982521</td>\n",
              "      <td>0.730708</td>\n",
              "      <td>1.096008</td>\n",
              "      <td>0.680238</td>\n",
              "      <td>12330.21702</td>\n",
              "      <td>6.670915</td>\n",
              "      <td>0.728171</td>\n",
              "      <td>1.092214</td>\n",
              "      <td>0.655206</td>\n",
              "      <td>15313.16198</td>\n",
              "      <td>6.551268</td>\n",
              "      <td>1</td>\n",
              "    </tr>\n",
              "    <tr>\n",
              "      <th>3</th>\n",
              "      <td>4</td>\n",
              "      <td>112</td>\n",
              "      <td>0.788884</td>\n",
              "      <td>1.183279</td>\n",
              "      <td>0.664787</td>\n",
              "      <td>16226.23017</td>\n",
              "      <td>8.990752</td>\n",
              "      <td>0.743874</td>\n",
              "      <td>1.115782</td>\n",
              "      <td>0.690141</td>\n",
              "      <td>22610.47885</td>\n",
              "      <td>7.109600</td>\n",
              "      <td>0.707999</td>\n",
              "      <td>1.061948</td>\n",
              "      <td>0.644786</td>\n",
              "      <td>12085.07787</td>\n",
              "      <td>6.017714</td>\n",
              "      <td>0.728161</td>\n",
              "      <td>1.092201</td>\n",
              "      <td>0.640739</td>\n",
              "      <td>16562.17418</td>\n",
              "      <td>6.608121</td>\n",
              "      <td>1</td>\n",
              "    </tr>\n",
              "    <tr>\n",
              "      <th>4</th>\n",
              "      <td>5</td>\n",
              "      <td>114</td>\n",
              "      <td>0.764986</td>\n",
              "      <td>1.147432</td>\n",
              "      <td>0.673490</td>\n",
              "      <td>14920.80711</td>\n",
              "      <td>8.269806</td>\n",
              "      <td>0.715948</td>\n",
              "      <td>1.073894</td>\n",
              "      <td>0.695619</td>\n",
              "      <td>22002.08151</td>\n",
              "      <td>6.447621</td>\n",
              "      <td>0.688155</td>\n",
              "      <td>1.032176</td>\n",
              "      <td>0.660206</td>\n",
              "      <td>10053.17885</td>\n",
              "      <td>5.571702</td>\n",
              "      <td>0.694320</td>\n",
              "      <td>1.041437</td>\n",
              "      <td>0.642373</td>\n",
              "      <td>13760.95583</td>\n",
              "      <td>5.665567</td>\n",
              "      <td>1</td>\n",
              "    </tr>\n",
              "  </tbody>\n",
              "</table>\n",
              "</div>"
            ],
            "text/plain": [
              "   id  trat  NDVI_d28  SAVI_d28  ...  GNDVI_d08   MCARI1_d08    SR_d08  Classe\n",
              "0   1   102  0.798284  1.197380  ...   0.636865  13352.81776  5.421333       1\n",
              "1   2    11  0.806955  1.210392  ...   0.669113  16190.82038  6.491860       0\n",
              "2   3   103  0.825104  1.237610  ...   0.655206  15313.16198  6.551268       1\n",
              "3   4   112  0.788884  1.183279  ...   0.640739  16562.17418  6.608121       1\n",
              "4   5   114  0.764986  1.147432  ...   0.642373  13760.95583  5.665567       1\n",
              "\n",
              "[5 rows x 23 columns]"
            ]
          },
          "metadata": {},
          "execution_count": 33
        }
      ]
    },
    {
      "cell_type": "markdown",
      "metadata": {
        "id": "nPQIttqAIMou"
      },
      "source": [
        "Separando nas variáveis X e Y"
      ]
    },
    {
      "cell_type": "code",
      "metadata": {
        "id": "pyEVcpXpLr0x"
      },
      "source": [
        "X=dataset.iloc[:,1:4]"
      ],
      "execution_count": 34,
      "outputs": []
    },
    {
      "cell_type": "code",
      "metadata": {
        "id": "HhDrMxmLLujN"
      },
      "source": [
        "X=pd.get_dummies(X)"
      ],
      "execution_count": 35,
      "outputs": []
    },
    {
      "cell_type": "code",
      "metadata": {
        "id": "7Rw6tiPoLwWH"
      },
      "source": [
        "X=X.values"
      ],
      "execution_count": 36,
      "outputs": []
    },
    {
      "cell_type": "code",
      "metadata": {
        "colab": {
          "base_uri": "https://localhost:8080/"
        },
        "id": "TLrYwGHGLz_r",
        "outputId": "d683c2a5-290f-4737-d83b-3d93c4bc4523"
      },
      "source": [
        "X"
      ],
      "execution_count": 37,
      "outputs": [
        {
          "output_type": "execute_result",
          "data": {
            "text/plain": [
              "array([[102.        ,   0.79828435,   1.19738016],\n",
              "       [ 11.        ,   0.80695467,   1.21039201],\n",
              "       [103.        ,   0.82510372,   1.23761013],\n",
              "       [112.        ,   0.78888402,   1.18327902],\n",
              "       [114.        ,   0.76498594,   1.14743162],\n",
              "       [104.        ,   0.80620372,   1.20925941],\n",
              "       [113.        ,   0.79535775,   1.19298785],\n",
              "       [101.        ,   0.80764651,   1.21142416],\n",
              "       [111.        ,   0.79008041,   1.18507413],\n",
              "       [ 12.        ,   0.78940291,   1.18406224],\n",
              "       [122.        ,   0.7878458 ,   1.18172248],\n",
              "       [ 13.        ,   0.80600613,   1.20896606],\n",
              "       [132.        ,   0.80208221,   1.20307736],\n",
              "       [134.        ,   0.81337257,   1.22001435],\n",
              "       [121.        ,   0.79308841,   1.18958783],\n",
              "       [123.        ,   0.79993079,   1.19985089],\n",
              "       [133.        ,   0.80587988,   1.20877294],\n",
              "       [131.        ,   0.78123425,   1.17180539],\n",
              "       [124.        ,   0.81480557,   1.22216416],\n",
              "       [ 14.        ,   0.7784079 ,   1.16756637],\n",
              "       [152.        ,   0.79217903,   1.18822129],\n",
              "       [161.        ,   0.77279869,   1.1591508 ],\n",
              "       [143.        ,   0.82786736,   1.24175638],\n",
              "       [151.        ,   0.7806298 ,   1.17089877],\n",
              "       [144.        ,   0.82130218,   1.23190864],\n",
              "       [153.        ,   0.79912406,   1.19863861],\n",
              "       [141.        ,   0.81766808,   1.22645782],\n",
              "       [142.        ,   0.82321048,   1.23477058],\n",
              "       [154.        ,   0.7693379 ,   1.15395847],\n",
              "       [162.        ,   0.7882659 ,   1.18235133],\n",
              "       [163.        ,   0.76004604,   1.14001845],\n",
              "       [172.        ,   0.78678937,   1.18013935],\n",
              "       [183.        ,   0.78515181,   1.17768103],\n",
              "       [181.        ,   0.80367556,   1.20547028],\n",
              "       [164.        ,   0.76376083,   1.14559411],\n",
              "       [182.        ,   0.80487079,   1.20726042],\n",
              "       [174.        ,   0.82055297,   1.2307865 ],\n",
              "       [171.        ,   0.78579091,   1.17864325],\n",
              "       [184.        ,   0.7879899 ,   1.18193828],\n",
              "       [173.        ,   0.81587788,   1.22377262],\n",
              "       [191.        ,   0.65967409,   0.98946671],\n",
              "       [211.        ,   0.77402306,   1.16099095],\n",
              "       [203.        ,   0.82569556,   1.23849751],\n",
              "       [194.        ,   0.69934711,   1.0489734 ],\n",
              "       [192.        ,   0.70188476,   1.05277778],\n",
              "       [ 21.        ,   0.77793719,   1.16686321],\n",
              "       [204.        ,   0.80658009,   1.2098232 ],\n",
              "       [201.        ,   0.75903595,   1.13850901],\n",
              "       [202.        ,   0.79937683,   1.19901976],\n",
              "       [193.        ,   0.66937807,   1.00401771],\n",
              "       [212.        ,   0.77277646,   1.15911864],\n",
              "       [213.        ,   0.77700084,   1.16545391],\n",
              "       [214.        ,   0.78090259,   1.17130512],\n",
              "       [233.        ,   0.80296256,   1.20439707],\n",
              "       [222.        ,   0.79927455,   1.19886655],\n",
              "       [223.        ,   0.77286183,   1.1592468 ],\n",
              "       [ 23.        ,   0.79370591,   1.19051446],\n",
              "       [ 22.        ,   0.78482003,   1.17718747],\n",
              "       [231.        ,   0.79487142,   1.19226331],\n",
              "       [224.        ,   0.80479205,   1.20714251],\n",
              "       [234.        ,   0.77722246,   1.16578746],\n",
              "       [232.        ,   0.75421096,   1.13126815],\n",
              "       [221.        ,   0.76890906,   1.1533198 ],\n",
              "       [ 24.        ,   0.7792892 ,   1.16888973],\n",
              "       [241.        ,   0.77931818,   1.16893591],\n",
              "       [262.        ,   0.78129858,   1.17190485],\n",
              "       [251.        ,   0.75518483,   1.1327335 ],\n",
              "       [243.        ,   0.78514352,   1.17766767],\n",
              "       [244.        ,   0.80663522,   1.20990613],\n",
              "       [252.        ,   0.7911839 ,   1.18673313],\n",
              "       [253.        ,   0.80446925,   1.20665994],\n",
              "       [254.        ,   0.78660936,   1.17986786],\n",
              "       [242.        ,   0.80418298,   1.2062299 ],\n",
              "       [261.        ,   0.76560095,   1.14835743],\n",
              "       [263.        ,   0.79694153,   1.19536565],\n",
              "       [264.        ,   0.75752495,   1.13624143],\n",
              "       [291.        ,   0.81130584,   1.21691823],\n",
              "       [272.        ,   0.76541833,   1.1480825 ],\n",
              "       [273.        ,   0.80332753,   1.20494619],\n",
              "       [271.        ,   0.77073093,   1.15605317],\n",
              "       [281.        ,   0.7570843 ,   1.13558346],\n",
              "       [274.        ,   0.77173353,   1.15755304],\n",
              "       [282.        ,   0.79919725,   1.1987514 ],\n",
              "       [284.        ,   0.75086308,   1.1262467 ],\n",
              "       [283.        ,   0.7965506 ,   1.19478016],\n",
              "       [292.        ,   0.79260779,   1.1888682 ],\n",
              "       [293.        ,   0.80498991,   1.20743936],\n",
              "       [301.        ,   0.77330697,   1.15991853],\n",
              "       [294.        ,   0.80693762,   1.21036208],\n",
              "       [312.        ,   0.77695288,   1.165389  ],\n",
              "       [302.        ,   0.76608794,   1.14908924],\n",
              "       [304.        ,   0.76829503,   1.15239892],\n",
              "       [313.        ,   0.77229486,   1.15839802],\n",
              "       [303.        ,   0.77976799,   1.16960648],\n",
              "       [ 31.        ,   0.80258904,   1.20384109],\n",
              "       [311.        ,   0.78742947,   1.18110613],\n",
              "       [ 32.        ,   0.79012735,   1.18514694],\n",
              "       [314.        ,   0.79079153,   1.18614183],\n",
              "       [324.        ,   0.77195564,   1.15788659],\n",
              "       [334.        ,   0.66666471,   0.99995354],\n",
              "       [332.        ,   0.70285336,   1.05423793],\n",
              "       [322.        ,   0.77566979,   1.1634611 ],\n",
              "       [ 33.        ,   0.80213504,   1.20315906],\n",
              "       [323.        ,   0.76247978,   1.14367425],\n",
              "       [333.        ,   0.64908469,   0.97358556],\n",
              "       [331.        ,   0.68409374,   1.02610112],\n",
              "       [321.        ,   0.77747178,   1.16616718],\n",
              "       [ 34.        ,   0.79454988,   1.19178105],\n",
              "       [ 41.        ,   0.80714841,   1.21067978],\n",
              "       [ 42.        ,   0.80783358,   1.21170782],\n",
              "       [ 51.        ,   0.68108686,   1.0215852 ],\n",
              "       [ 62.        ,   0.79301964,   1.18948299],\n",
              "       [ 63.        ,   0.82153789,   1.23226203],\n",
              "       [ 43.        ,   0.8016271 ,   1.20239642],\n",
              "       [ 61.        ,   0.78976467,   1.1846016 ],\n",
              "       [ 44.        ,   0.79751416,   1.19622676],\n",
              "       [ 53.        ,   0.70122581,   1.05178805],\n",
              "       [ 64.        ,   0.79177551,   1.18761823],\n",
              "       [ 71.        ,   0.78272501,   1.17404232],\n",
              "       [ 54.        ,   0.7046799 ,   1.05697131],\n",
              "       [ 52.        ,   0.66711102,   1.00061826],\n",
              "       [ 72.        ,   0.81233606,   1.21845927],\n",
              "       [ 73.        ,   0.80687807,   1.21027119],\n",
              "       [ 74.        ,   0.80267022,   1.20395885],\n",
              "       [ 94.        ,   0.80102289,   1.2014886 ],\n",
              "       [ 91.        ,   0.77362897,   1.16039686],\n",
              "       [ 83.        ,   0.80606269,   1.20904814],\n",
              "       [ 82.        ,   0.75021017,   1.12526758],\n",
              "       [ 81.        ,   0.80757582,   1.21132059],\n",
              "       [ 84.        ,   0.7812987 ,   1.1719033 ],\n",
              "       [ 92.        ,   0.76072228,   1.1410366 ],\n",
              "       [ 93.        ,   0.77517789,   1.16272028]])"
            ]
          },
          "metadata": {},
          "execution_count": 37
        }
      ]
    },
    {
      "cell_type": "code",
      "metadata": {
        "id": "fyizTzZML9v7"
      },
      "source": [
        "Y=dataset.iloc[:,-1].values"
      ],
      "execution_count": 38,
      "outputs": []
    },
    {
      "cell_type": "markdown",
      "metadata": {
        "id": "podjnm7wIQ1y"
      },
      "source": [
        "Separando em amostras de treino e teste"
      ]
    },
    {
      "cell_type": "code",
      "metadata": {
        "id": "huv_e5dPKWFT"
      },
      "source": [
        "from sklearn.model_selection import train_test_split"
      ],
      "execution_count": 39,
      "outputs": []
    },
    {
      "cell_type": "code",
      "metadata": {
        "id": "8pIHto_DKYmq"
      },
      "source": [
        "X_treino,X_teste,Y_treino,Y_teste=train_test_split(X,Y,test_size=0.25,random_state=0)"
      ],
      "execution_count": 40,
      "outputs": []
    },
    {
      "cell_type": "markdown",
      "metadata": {
        "id": "-sP9v9OkIVJl"
      },
      "source": [
        "Aplicando modelo KNN"
      ]
    },
    {
      "cell_type": "code",
      "metadata": {
        "id": "S5fZDW2_KbIl"
      },
      "source": [
        "from sklearn.neighbors import KNeighborsClassifier"
      ],
      "execution_count": 41,
      "outputs": []
    },
    {
      "cell_type": "code",
      "metadata": {
        "id": "Eh-OfUQBKdhM"
      },
      "source": [
        "vizinhos = []\n",
        "acc_treino = []\n",
        "acc_teste = []\n",
        "std = []"
      ],
      "execution_count": 42,
      "outputs": []
    },
    {
      "cell_type": "code",
      "metadata": {
        "id": "vbLUbW1NKfCi"
      },
      "source": [
        "for i in range(2,11):\n",
        "    vizinhos.append(i)\n",
        "    knn=KNeighborsClassifier(n_neighbors=i)\n",
        "    knn.fit(X_treino,Y_treino)\n",
        "    acc_treino.append(knn.score(X_treino,Y_treino))\n",
        "    acc_teste.append(knn.score(X_teste,Y_teste))\n",
        "    Y_previsto = knn.predict(X_teste)\n",
        "    std.append(np.std(Y_previsto==Y_teste)/np.sqrt(Y_previsto.shape[0]))"
      ],
      "execution_count": 43,
      "outputs": []
    },
    {
      "cell_type": "code",
      "metadata": {
        "id": "iOGQUbxgKjMW"
      },
      "source": [
        "knn=KNeighborsClassifier(n_neighbors=4)"
      ],
      "execution_count": 44,
      "outputs": []
    },
    {
      "cell_type": "code",
      "metadata": {
        "colab": {
          "base_uri": "https://localhost:8080/"
        },
        "id": "vHfd78hgKmpp",
        "outputId": "dccf7d52-b24d-4387-e249-db74371038a1"
      },
      "source": [
        "knn.fit(X_treino,Y_treino)"
      ],
      "execution_count": 45,
      "outputs": [
        {
          "output_type": "execute_result",
          "data": {
            "text/plain": [
              "KNeighborsClassifier(algorithm='auto', leaf_size=30, metric='minkowski',\n",
              "                     metric_params=None, n_jobs=None, n_neighbors=4, p=2,\n",
              "                     weights='uniform')"
            ]
          },
          "metadata": {},
          "execution_count": 45
        }
      ]
    },
    {
      "cell_type": "code",
      "metadata": {
        "id": "-C3qXoHFKona"
      },
      "source": [
        "Y_previsto = knn.predict(X_teste)\n",
        "y_prob = knn.predict_proba(X_teste)"
      ],
      "execution_count": 46,
      "outputs": []
    },
    {
      "cell_type": "markdown",
      "metadata": {
        "id": "pNPFMT2iIaUD"
      },
      "source": [
        "Gerando matriz de confusão"
      ]
    },
    {
      "cell_type": "code",
      "metadata": {
        "id": "msQEDB62KpNb"
      },
      "source": [
        "from sklearn.metrics import confusion_matrix"
      ],
      "execution_count": 47,
      "outputs": []
    },
    {
      "cell_type": "markdown",
      "metadata": {
        "id": "yfP4nsqDIdQ5"
      },
      "source": [
        "Calculando métricas"
      ]
    },
    {
      "cell_type": "code",
      "metadata": {
        "id": "uucpt15HKuNA"
      },
      "source": [
        "from sklearn.metrics import classification_report,f1_score,precision_score,average_precision_score,recall_score,accuracy_score"
      ],
      "execution_count": 48,
      "outputs": []
    },
    {
      "cell_type": "markdown",
      "metadata": {
        "id": "kipp-Ff-Iesn"
      },
      "source": [
        "Relatório de classificação"
      ]
    },
    {
      "cell_type": "code",
      "metadata": {
        "colab": {
          "base_uri": "https://localhost:8080/"
        },
        "id": "u4YYJ2RLKvv5",
        "outputId": "6cc47aba-c468-46a8-be6a-6e94256bc642"
      },
      "source": [
        "cr = classification_report(Y_teste,Y_previsto,labels=[0,1])\n",
        "print(cr)"
      ],
      "execution_count": 26,
      "outputs": [
        {
          "output_type": "stream",
          "name": "stdout",
          "text": [
            "              precision    recall  f1-score   support\n",
            "\n",
            "           0       0.87      1.00      0.93        13\n",
            "           1       1.00      0.90      0.95        20\n",
            "\n",
            "    accuracy                           0.94        33\n",
            "   macro avg       0.93      0.95      0.94        33\n",
            "weighted avg       0.95      0.94      0.94        33\n",
            "\n"
          ]
        }
      ]
    }
  ]
}